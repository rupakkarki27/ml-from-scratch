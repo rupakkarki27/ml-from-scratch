{
 "cells": [
  {
   "cell_type": "markdown",
   "metadata": {},
   "source": [
    "# Testing our Custom Models"
   ]
  },
  {
   "cell_type": "code",
   "execution_count": 1,
   "metadata": {},
   "outputs": [],
   "source": [
    "import numpy as np\n",
    "import matplotlib.pyplot as plt"
   ]
  },
  {
   "cell_type": "markdown",
   "metadata": {},
   "source": [
    "# 1 - Single Linear Regression"
   ]
  },
  {
   "cell_type": "code",
   "execution_count": 2,
   "metadata": {},
   "outputs": [
    {
     "name": "stdout",
     "output_type": "stream",
     "text": [
      "Iter 1/50  weight=2.399   bias=0.6056  cost=1.4617\n",
      "Iter 2/50  weight=2.361   bias=0.7216  cost=1.4113\n",
      "Iter 3/50  weight=2.343   bias=0.8354  cost=1.2731\n",
      "Iter 4/50  weight=2.326   bias=0.9435  cost=1.1492\n",
      "Iter 5/50  weight=2.309   bias=1.0462  cost=1.0372\n",
      "Iter 6/50  weight=2.294   bias=1.1438  cost=0.9362\n",
      "Iter 7/50  weight=2.279   bias=1.2365  cost=0.8450\n",
      "Iter 8/50  weight=2.265   bias=1.3246  cost=0.7627\n",
      "Iter 9/50  weight=2.252   bias=1.4083  cost=0.6885\n",
      "Iter 10/50  weight=2.240   bias=1.4878  cost=0.6214\n",
      "Iter 11/50  weight=2.228   bias=1.5633  cost=0.5609\n",
      "Iter 12/50  weight=2.216   bias=1.6350  cost=0.5063\n",
      "Iter 13/50  weight=2.205   bias=1.7032  cost=0.4570\n",
      "Iter 14/50  weight=2.195   bias=1.7680  cost=0.4125\n",
      "Iter 15/50  weight=2.185   bias=1.8295  cost=0.3723\n",
      "Iter 16/50  weight=2.176   bias=1.8880  cost=0.3360\n",
      "Iter 17/50  weight=2.167   bias=1.9435  cost=0.3033\n",
      "Iter 18/50  weight=2.159   bias=1.9963  cost=0.2738\n",
      "Iter 19/50  weight=2.151   bias=2.0464  cost=0.2471\n",
      "Iter 20/50  weight=2.144   bias=2.0940  cost=0.2230\n",
      "Iter 21/50  weight=2.136   bias=2.1393  cost=0.2013\n",
      "Iter 22/50  weight=2.130   bias=2.1823  cost=0.1817\n",
      "Iter 23/50  weight=2.123   bias=2.2231  cost=0.1640\n",
      "Iter 24/50  weight=2.117   bias=2.2619  cost=0.1480\n",
      "Iter 25/50  weight=2.111   bias=2.2988  cost=0.1336\n",
      "Iter 26/50  weight=2.106   bias=2.3338  cost=0.1206\n",
      "Iter 27/50  weight=2.100   bias=2.3671  cost=0.1089\n",
      "Iter 28/50  weight=2.095   bias=2.3987  cost=0.0983\n",
      "Iter 29/50  weight=2.090   bias=2.4287  cost=0.0887\n",
      "Iter 30/50  weight=2.086   bias=2.4572  cost=0.0800\n",
      "Iter 31/50  weight=2.082   bias=2.4843  cost=0.0723\n",
      "Iter 32/50  weight=2.078   bias=2.5101  cost=0.0652\n",
      "Iter 33/50  weight=2.074   bias=2.5346  cost=0.0589\n",
      "Iter 34/50  weight=2.070   bias=2.5578  cost=0.0531\n",
      "Iter 35/50  weight=2.067   bias=2.5799  cost=0.0480\n",
      "Iter 36/50  weight=2.063   bias=2.6009  cost=0.0433\n",
      "Iter 37/50  weight=2.060   bias=2.6208  cost=0.0391\n",
      "Iter 38/50  weight=2.057   bias=2.6397  cost=0.0353\n",
      "Iter 39/50  weight=2.054   bias=2.6577  cost=0.0318\n",
      "Iter 40/50  weight=2.052   bias=2.6748  cost=0.0287\n",
      "Iter 41/50  weight=2.049   bias=2.6911  cost=0.0259\n",
      "Iter 42/50  weight=2.046   bias=2.7065  cost=0.0234\n",
      "Iter 43/50  weight=2.044   bias=2.7212  cost=0.0211\n",
      "Iter 44/50  weight=2.042   bias=2.7351  cost=0.0191\n",
      "Iter 45/50  weight=2.040   bias=2.7483  cost=0.0172\n",
      "Iter 46/50  weight=2.038   bias=2.7609  cost=0.0155\n",
      "Iter 47/50  weight=2.036   bias=2.7728  cost=0.0140\n",
      "Iter 48/50  weight=2.034   bias=2.7842  cost=0.0127\n",
      "Iter 49/50  weight=2.032   bias=2.7950  cost=0.0114\n",
      "Iter 50/50  weight=2.031   bias=2.8052  cost=0.0103\n"
     ]
    },
    {
     "data": {
      "image/png": "[encoded data removed]",
      "text/plain": [
       "<Figure size 432x288 with 1 Axes>"
      ]
     },
     "metadata": {
      "needs_background": "light"
     },
     "output_type": "display_data"
    },
    {
     "name": "stdout",
     "output_type": "stream",
     "text": [
      "Accuracy: 0.94\n"
     ]
    }
   ],
   "source": [
    "from linear_regression import LinearRegression1V\n",
    "\n",
    "X = [1,2,3,4,5,6]\n",
    "y = [5, 7, 9, 11, 13, 15]\n",
    "\n",
    "X_test = [7, 8, 9, 10]\n",
    "y_test = [17, 19, 21, 23]\n",
    "\n",
    "lr = LinearRegression1V()\n",
    "lr.fit(X, y, epochs=50)\n",
    "\n",
    "plt.plot(lr.cost_history)\n",
    "plt.title(\"Iteration vs Cost\")\n",
    "plt.xlabel(\"No. of Iterations\")\n",
    "plt.ylabel(\"Cost\")\n",
    "plt.show()\n",
    "\n",
    "#prediction\n",
    "y_pred = lr.predict(X_test)\n",
    "lr.score(y_pred, y_test)"
   ]
  },
  {
   "cell_type": "markdown",
   "metadata": {},
   "source": [
    "As we can see, our model is working because during each iteration, the cost function is minimized as shown in the plot above."
   ]
  },
  {
   "cell_type": "markdown",
   "metadata": {},
   "source": [
    "# 2 - Multivariate Linear Regression"
   ]
  },
  {
   "cell_type": "code",
   "execution_count": 6,
   "metadata": {},
   "outputs": [
    {
     "name": "stdout",
     "output_type": "stream",
     "text": [
      "Iter 1/50 cost=127.8242\n",
      "Iter 2/50 cost=102.8590\n",
      "Iter 3/50 cost=83.0024\n",
      "Iter 4/50 cost=67.2081\n",
      "Iter 5/50 cost=54.6441\n",
      "Iter 6/50 cost=44.6489\n",
      "Iter 7/50 cost=36.6964\n",
      "Iter 8/50 cost=30.3684\n",
      "Iter 9/50 cost=25.3323\n",
      "Iter 10/50 cost=21.3234\n",
      "Iter 11/50 cost=18.1317\n",
      "Iter 12/50 cost=15.5897\n",
      "Iter 13/50 cost=13.5645\n",
      "Iter 14/50 cost=11.9503\n",
      "Iter 15/50 cost=10.6631\n",
      "Iter 16/50 cost=9.6360\n",
      "Iter 17/50 cost=8.8158\n",
      "Iter 18/50 cost=8.1603\n",
      "Iter 19/50 cost=7.6357\n",
      "Iter 20/50 cost=7.2154\n",
      "Iter 21/50 cost=6.8781\n",
      "Iter 22/50 cost=6.6069\n",
      "Iter 23/50 cost=6.3883\n",
      "Iter 24/50 cost=6.2116\n",
      "Iter 25/50 cost=6.0683\n",
      "Iter 26/50 cost=5.9517\n",
      "Iter 27/50 cost=5.8564\n",
      "Iter 28/50 cost=5.7780\n",
      "Iter 29/50 cost=5.7132\n",
      "Iter 30/50 cost=5.6593\n",
      "Iter 31/50 cost=5.6140\n",
      "Iter 32/50 cost=5.5758\n",
      "Iter 33/50 cost=5.5432\n",
      "Iter 34/50 cost=5.5150\n",
      "Iter 35/50 cost=5.4906\n",
      "Iter 36/50 cost=5.4691\n",
      "Iter 37/50 cost=5.4500\n",
      "Iter 38/50 cost=5.4329\n",
      "Iter 39/50 cost=5.4174\n",
      "Iter 40/50 cost=5.4032\n",
      "Iter 41/50 cost=5.3902\n",
      "Iter 42/50 cost=5.3780\n",
      "Iter 43/50 cost=5.3667\n",
      "Iter 44/50 cost=5.3560\n",
      "Iter 45/50 cost=5.3459\n",
      "Iter 46/50 cost=5.3363\n",
      "Iter 47/50 cost=5.3272\n",
      "Iter 48/50 cost=5.3184\n",
      "Iter 49/50 cost=5.3100\n",
      "Iter 50/50 cost=5.3019\n"
     ]
    },
    {
     "data": {
      "text/plain": [
       "array([[15.7018957 ],\n",
       "       [ 5.91502102],\n",
       "       [-1.44639775],\n",
       "       [-1.12372898]])"
      ]
     },
     "execution_count": 6,
     "metadata": {},
     "output_type": "execute_result"
    }
   ],
   "source": [
    "from linear_regression import MVLinearRegression\n",
    "import numpy as np\n",
    "lr = MVLinearRegression()\n",
    "\n",
    "X = np.matrix([\n",
    "             [230.1, 37.8, 69.1],\n",
    "             [44.5, 39.3, 23.1],\n",
    "             [17.2, 45.9, 34.7],\n",
    "             [151.5, 41.3, 13.2]\n",
    "             ])\n",
    "\n",
    "y = np.array([[22.1],\n",
    "            [10.4],\n",
    "            [18.3],\n",
    "            [18.5]])\n",
    "# print(\"Y SHAPE {}\".format(y.shape))\n",
    "X = lr.preprocess_data(X)\n",
    "\n",
    "lr.fit(X, y, epochs=50)"
   ]
  },
  {
   "cell_type": "markdown",
   "metadata": {},
   "source": [
    "## Plotting cost Function"
   ]
  },
  {
   "cell_type": "code",
   "execution_count": 7,
   "metadata": {},
   "outputs": [
    {
     "data": {
      "image/png": "[encoded data removed]",
      "text/plain": [
       "<Figure size 432x288 with 1 Axes>"
      ]
     },
     "metadata": {
      "needs_background": "light"
     },
     "output_type": "display_data"
    }
   ],
   "source": [
    "plt.plot(lr.cost_history)\n",
    "plt.title(\"Iteration vs Cost\")\n",
    "plt.xlabel(\"No. of Iterations\")\n",
    "plt.ylabel(\"Cost\")\n",
    "plt.show()"
   ]
  },
  {
   "cell_type": "markdown",
   "metadata": {},
   "source": [
    "As we can see, our model is working because during each iteration, the cost function is minimized as shown in the plot above."
   ]
  },
  {
   "cell_type": "code",
   "execution_count": null,
   "metadata": {},
   "outputs": [],
   "source": []
  }
 ],
 "metadata": {
  "kernelspec": {
   "display_name": "Python 3",
   "language": "python",
   "name": "python3"
  },
  "language_info": {
   "codemirror_mode": {
    "name": "ipython",
    "version": 3
   },
   "file_extension": ".py",
   "mimetype": "text/x-python",
   "name": "python",
   "nbconvert_exporter": "python",
   "pygments_lexer": "ipython3",
   "version": "3.8.5"
  }
 },
 "nbformat": 4,
 "nbformat_minor": 4
}
