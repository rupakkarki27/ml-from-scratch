{
 "cells": [
  {
   "cell_type": "markdown",
   "metadata": {},
   "source": [
    "# Testing our LogisticRegression"
   ]
  },
  {
   "cell_type": "code",
   "execution_count": 1,
   "metadata": {},
   "outputs": [],
   "source": [
    "import numpy as np\n",
    "import matplotlib.pyplot as plt"
   ]
  },
  {
   "cell_type": "code",
   "execution_count": 3,
   "metadata": {},
   "outputs": [
    {
     "name": "stdout",
     "output_type": "stream",
     "text": [
      "Iter 1/100   Cost:0.6640\n",
      "Iter 2/100   Cost:0.6379\n",
      "Iter 3/100   Cost:0.6141\n",
      "Iter 4/100   Cost:0.5923\n",
      "Iter 5/100   Cost:0.5721\n",
      "Iter 6/100   Cost:0.5535\n",
      "Iter 7/100   Cost:0.5363\n",
      "Iter 8/100   Cost:0.5202\n",
      "Iter 9/100   Cost:0.5054\n",
      "Iter 10/100   Cost:0.4915\n",
      "Iter 11/100   Cost:0.4786\n",
      "Iter 12/100   Cost:0.4665\n",
      "Iter 13/100   Cost:0.4552\n",
      "Iter 14/100   Cost:0.4446\n",
      "Iter 15/100   Cost:0.4347\n",
      "Iter 16/100   Cost:0.4254\n",
      "Iter 17/100   Cost:0.4166\n",
      "Iter 18/100   Cost:0.4083\n",
      "Iter 19/100   Cost:0.4004\n",
      "Iter 20/100   Cost:0.3930\n",
      "Iter 21/100   Cost:0.3860\n",
      "Iter 22/100   Cost:0.3793\n",
      "Iter 23/100   Cost:0.3729\n",
      "Iter 24/100   Cost:0.3669\n",
      "Iter 25/100   Cost:0.3611\n",
      "Iter 26/100   Cost:0.3556\n",
      "Iter 27/100   Cost:0.3504\n",
      "Iter 28/100   Cost:0.3453\n",
      "Iter 29/100   Cost:0.3405\n",
      "Iter 30/100   Cost:0.3359\n",
      "Iter 31/100   Cost:0.3315\n",
      "Iter 32/100   Cost:0.3272\n",
      "Iter 33/100   Cost:0.3231\n",
      "Iter 34/100   Cost:0.3191\n",
      "Iter 35/100   Cost:0.3153\n",
      "Iter 36/100   Cost:0.3117\n",
      "Iter 37/100   Cost:0.3081\n",
      "Iter 38/100   Cost:0.3047\n",
      "Iter 39/100   Cost:0.3014\n",
      "Iter 40/100   Cost:0.2981\n",
      "Iter 41/100   Cost:0.2950\n",
      "Iter 42/100   Cost:0.2920\n",
      "Iter 43/100   Cost:0.2891\n",
      "Iter 44/100   Cost:0.2862\n",
      "Iter 45/100   Cost:0.2835\n",
      "Iter 46/100   Cost:0.2808\n",
      "Iter 47/100   Cost:0.2782\n",
      "Iter 48/100   Cost:0.2756\n",
      "Iter 49/100   Cost:0.2732\n",
      "Iter 50/100   Cost:0.2708\n",
      "Iter 51/100   Cost:0.2684\n",
      "Iter 52/100   Cost:0.2661\n",
      "Iter 53/100   Cost:0.2639\n",
      "Iter 54/100   Cost:0.2617\n",
      "Iter 55/100   Cost:0.2595\n",
      "Iter 56/100   Cost:0.2575\n",
      "Iter 57/100   Cost:0.2554\n",
      "Iter 58/100   Cost:0.2534\n",
      "Iter 59/100   Cost:0.2515\n",
      "Iter 60/100   Cost:0.2496\n",
      "Iter 61/100   Cost:0.2477\n",
      "Iter 62/100   Cost:0.2459\n",
      "Iter 63/100   Cost:0.2441\n",
      "Iter 64/100   Cost:0.2423\n",
      "Iter 65/100   Cost:0.2406\n",
      "Iter 66/100   Cost:0.2389\n",
      "Iter 67/100   Cost:0.2372\n",
      "Iter 68/100   Cost:0.2356\n",
      "Iter 69/100   Cost:0.2340\n",
      "Iter 70/100   Cost:0.2324\n",
      "Iter 71/100   Cost:0.2309\n",
      "Iter 72/100   Cost:0.2294\n",
      "Iter 73/100   Cost:0.2279\n",
      "Iter 74/100   Cost:0.2264\n",
      "Iter 75/100   Cost:0.2250\n",
      "Iter 76/100   Cost:0.2235\n",
      "Iter 77/100   Cost:0.2221\n",
      "Iter 78/100   Cost:0.2208\n",
      "Iter 79/100   Cost:0.2194\n",
      "Iter 80/100   Cost:0.2181\n",
      "Iter 81/100   Cost:0.2168\n",
      "Iter 82/100   Cost:0.2155\n",
      "Iter 83/100   Cost:0.2142\n",
      "Iter 84/100   Cost:0.2130\n",
      "Iter 85/100   Cost:0.2117\n",
      "Iter 86/100   Cost:0.2105\n",
      "Iter 87/100   Cost:0.2093\n",
      "Iter 88/100   Cost:0.2081\n",
      "Iter 89/100   Cost:0.2070\n",
      "Iter 90/100   Cost:0.2058\n",
      "Iter 91/100   Cost:0.2047\n",
      "Iter 92/100   Cost:0.2036\n",
      "Iter 93/100   Cost:0.2025\n",
      "Iter 94/100   Cost:0.2014\n",
      "Iter 95/100   Cost:0.2003\n",
      "Iter 96/100   Cost:0.1993\n",
      "Iter 97/100   Cost:0.1982\n",
      "Iter 98/100   Cost:0.1972\n",
      "Iter 99/100   Cost:0.1961\n",
      "Iter 100/100   Cost:0.1951\n"
     ]
    }
   ],
   "source": [
    "from logistic_regression import LogisticRegression\n",
    "\n",
    "log_reg = LogisticRegression(lr=0.3)\n",
    "\n",
    "X = np.matrix([[8.2, 8.5],\n",
    "    [2.4, 8.0],\n",
    "    [1.5, 7.5],\n",
    "    [4.5, 8.0]])\n",
    "\n",
    "y = np.matrix([[1],\n",
    "    [0],\n",
    "    [0],\n",
    "    [1]])\n",
    "\n",
    "log_reg.fit(X, y, epochs=100)"
   ]
  },
  {
   "cell_type": "markdown",
   "metadata": {},
   "source": [
    "# Plot cost function"
   ]
  },
  {
   "cell_type": "code",
   "execution_count": 6,
   "metadata": {},
   "outputs": [
    {
     "data": {
      "image/png": "[encoded data removed]",
      "text/plain": [
       "<Figure size 432x288 with 1 Axes>"
      ]
     },
     "metadata": {
      "needs_background": "light"
     },
     "output_type": "display_data"
    }
   ],
   "source": [
    "plt.plot(log_reg.cost_history)\n",
    "plt.xlabel(\"Epochs\")\n",
    "plt.ylabel(\"Cost\")\n",
    "plt.title(\"Epochs vs Cost\")\n",
    "plt.show()"
   ]
  },
  {
   "cell_type": "markdown",
   "metadata": {},
   "source": [
    "Since the cost function goes down with the iterations, we can say that our model is working well."
   ]
  },
  {
   "cell_type": "code",
   "execution_count": null,
   "metadata": {},
   "outputs": [],
   "source": []
  }
 ],
 "metadata": {
  "kernelspec": {
   "display_name": "Python 3",
   "language": "python",
   "name": "python3"
  },
  "language_info": {
   "codemirror_mode": {
    "name": "ipython",
    "version": 3
   },
   "file_extension": ".py",
   "mimetype": "text/x-python",
   "name": "python",
   "nbconvert_exporter": "python",
   "pygments_lexer": "ipython3",
   "version": "3.8.5"
  }
 },
 "nbformat": 4,
 "nbformat_minor": 4
}
